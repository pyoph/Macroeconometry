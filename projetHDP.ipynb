{
  "nbformat": 4,
  "nbformat_minor": 0,
  "metadata": {
    "colab": {
      "provenance": [],
      "authorship_tag": "ABX9TyOFpL+SYtgt8KZtHNcomdTa",
      "include_colab_link": true
    },
    "kernelspec": {
      "name": "python3",
      "display_name": "Python 3"
    },
    "language_info": {
      "name": "python"
    }
  },
  "cells": [
    {
      "cell_type": "markdown",
      "metadata": {
        "id": "view-in-github",
        "colab_type": "text"
      },
      "source": [
        "<a href=\"https://colab.research.google.com/github/pyoph/Macroeconometry/blob/main/projetHDP.ipynb\" target=\"_parent\"><img src=\"https://colab.research.google.com/assets/colab-badge.svg\" alt=\"Open In Colab\"/></a>"
      ]
    },
    {
      "cell_type": "code",
      "execution_count": 2,
      "metadata": {
        "id": "Ap61wX_9YFix"
      },
      "outputs": [],
      "source": [
        "import cvxpy as cp\n",
        "import numpy as np"
      ]
    },
    {
      "cell_type": "code",
      "source": [
        "#Premiers essais relaxation convexe (p,q) SBM : X_i,i = 1\n",
        "\n",
        "\n",
        "np.random.seed(1)\n",
        "\n",
        "#Paramètres\n",
        "n = 5\n",
        "\n",
        "#Définitions des seuils\n",
        "p = 0.8\n",
        "q = 0.2\n",
        "l = 0\n",
        "\n",
        "\n",
        "J3 = np.array([[1,1,1],[1,1,1],[1,1,1]])\n",
        "\n",
        "#Définition de la matrice Z à estimer\n",
        "\n",
        "Z = np.random.choice([0, 1], size=(n, n))\n",
        "\n",
        "for i in range(n) :\n",
        "  Z[i][i] = 1\n",
        "\n",
        "\n",
        "\n",
        "\n",
        "#Tuning parameter\n",
        "\n",
        "for i in range(n) :\n",
        "  for j in range(n) :\n",
        "    l += Z[i][j]\n",
        "\n",
        "\n",
        "\n",
        "#Calcul de la matrice d'adjacence à partir des tirages de p et de q\n",
        "A = np.zeros((n,n))\n",
        "\n",
        "#Définition de la matrice C observée\n",
        "\n",
        "for i in range(n):\n",
        "  for j in range(n) :\n",
        "    if (Z[i][j] == 0) : A[i][j] = np.random.choice([0,1],p = [1 -p,p])\n",
        "    else : A[i][j] = np.random.choice([0,1],p = [1 -q,q])\n",
        "\n",
        "\n",
        "\n",
        "print(C)\n",
        "\n",
        "C = []\n",
        "b = []\n",
        "for i in range(n):\n",
        "    b.append(1)\n",
        "\n",
        "M = np.zeros((n,n))\n",
        "\n",
        "\n",
        "#Concaténation des matrices élémentaires pour faire le produit scalaire\n",
        "for  i in range(n) :\n",
        "  M[i][i] = 1\n",
        "  C.append(M)\n",
        "  M = np.zeros((n,n))\n",
        "\n",
        "print(C)\n",
        "\n",
        "\n",
        "# Define and solve the CVXPY problem.\n",
        "# Create a symmetric matrix variable.\n",
        "X = cp.Variable((n,n), symmetric=True)\n",
        "# The operator >> denotes matrix inequality.\n",
        "constraints = [X >> 0]\n",
        "constraints += [\n",
        "    cp.trace(C[i] @ X) <= b[i] for i in range(n)\n",
        "]\n",
        "\n",
        "constraints += [\n",
        "    cp.sum(X) == l\n",
        "]\n",
        "\n",
        "\n",
        "prob = cp.Problem(cp.Minimize(cp.trace(A @ X)),\n",
        "                  constraints)\n",
        "prob.solve()\n",
        "\n",
        "# Print result.\n",
        "print(\"The optimal value is\", prob.value)\n",
        "print(\"A solution X is\")\n",
        "print(X.value)"
      ],
      "metadata": {
        "colab": {
          "base_uri": "https://localhost:8080/"
        },
        "id": "k_NKMx0sYOn7",
        "outputId": "e700568b-a2d6-4b79-e716-61b756dd9444"
      },
      "execution_count": 23,
      "outputs": [
        {
          "output_type": "stream",
          "name": "stdout",
          "text": [
            "[array([[1., 0., 0., 0., 0.],\n",
            "       [0., 0., 0., 0., 0.],\n",
            "       [0., 0., 0., 0., 0.],\n",
            "       [0., 0., 0., 0., 0.],\n",
            "       [0., 0., 0., 0., 0.]]), array([[0., 0., 0., 0., 0.],\n",
            "       [0., 1., 0., 0., 0.],\n",
            "       [0., 0., 0., 0., 0.],\n",
            "       [0., 0., 0., 0., 0.],\n",
            "       [0., 0., 0., 0., 0.]]), array([[0., 0., 0., 0., 0.],\n",
            "       [0., 0., 0., 0., 0.],\n",
            "       [0., 0., 1., 0., 0.],\n",
            "       [0., 0., 0., 0., 0.],\n",
            "       [0., 0., 0., 0., 0.]]), array([[0., 0., 0., 0., 0.],\n",
            "       [0., 0., 0., 0., 0.],\n",
            "       [0., 0., 0., 0., 0.],\n",
            "       [0., 0., 0., 1., 0.],\n",
            "       [0., 0., 0., 0., 0.]]), array([[0., 0., 0., 0., 0.],\n",
            "       [0., 0., 0., 0., 0.],\n",
            "       [0., 0., 0., 0., 0.],\n",
            "       [0., 0., 0., 0., 0.],\n",
            "       [0., 0., 0., 0., 1.]])]\n",
            "[array([[1., 0., 0., 0., 0.],\n",
            "       [0., 0., 0., 0., 0.],\n",
            "       [0., 0., 0., 0., 0.],\n",
            "       [0., 0., 0., 0., 0.],\n",
            "       [0., 0., 0., 0., 0.]]), array([[0., 0., 0., 0., 0.],\n",
            "       [0., 1., 0., 0., 0.],\n",
            "       [0., 0., 0., 0., 0.],\n",
            "       [0., 0., 0., 0., 0.],\n",
            "       [0., 0., 0., 0., 0.]]), array([[0., 0., 0., 0., 0.],\n",
            "       [0., 0., 0., 0., 0.],\n",
            "       [0., 0., 1., 0., 0.],\n",
            "       [0., 0., 0., 0., 0.],\n",
            "       [0., 0., 0., 0., 0.]]), array([[0., 0., 0., 0., 0.],\n",
            "       [0., 0., 0., 0., 0.],\n",
            "       [0., 0., 0., 0., 0.],\n",
            "       [0., 0., 0., 1., 0.],\n",
            "       [0., 0., 0., 0., 0.]]), array([[0., 0., 0., 0., 0.],\n",
            "       [0., 0., 0., 0., 0.],\n",
            "       [0., 0., 0., 0., 0.],\n",
            "       [0., 0., 0., 0., 0.],\n",
            "       [0., 0., 0., 0., 1.]])]\n",
            "The optimal value is 4.583611626835307\n",
            "A solution X is\n",
            "[[ 1.00000293  0.9509175   0.84093461  0.82691648  0.06076789]\n",
            " [ 0.9509175   1.00000794  0.92318625  0.9509175  -0.03706618]\n",
            " [ 0.84093461  0.92318625  0.99998046  0.84093461 -0.41827428]\n",
            " [ 0.82691648  0.9509175   0.84093461  1.00000293  0.06076789]\n",
            " [ 0.06076789 -0.03706618 -0.41827428  0.06076789  1.00000118]]\n"
          ]
        }
      ]
    }
  ]
}